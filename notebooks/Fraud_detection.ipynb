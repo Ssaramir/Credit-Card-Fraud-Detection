{
 "cells": [
  {
   "cell_type": "markdown",
   "metadata": {},
   "source": [
    "#### Imports"
   ]
  },
  {
   "cell_type": "code",
   "execution_count": 1,
   "metadata": {},
   "outputs": [],
   "source": [
    "import pandas as pd\n",
    "import numpy as np\n",
    "import matplotlib as plt\n",
    "import seaborn as sn\n",
    "import sklearn\n",
    "import matplotlib.pyplot as plt\n",
    "from sklearn.model_selection import train_test_split\n",
    "from sklearn.preprocessing import StandardScaler\n",
    "from sklearn.linear_model import LogisticRegression\n",
    "from sklearn.metrics import classification_report, confusion_matrix, roc_auc_score\n",
    "from sklearn.tree import DecisionTreeClassifier\n",
    "import xgboost as xgb\n",
    "from sklearn.model_selection import GridSearchCV\n",
    "import joblib\n",
    "from flask import Flask, request, jsonify\n",
    "import requests\n",
    "import json\n",
    "from pathlib import Path\n",
    "from sklearn.metrics import precision_recall_curve\n",
    "import warnings\n",
    "warnings.filterwarnings(\"ignore\", category=FutureWarning)"
   ]
  },
  {
   "cell_type": "code",
   "execution_count": 2,
   "metadata": {},
   "outputs": [],
   "source": [
    "# reading the data \n",
    "df = pd.read_csv(\"../data/creditcard.csv\")"
   ]
  },
  {
   "cell_type": "markdown",
   "metadata": {},
   "source": [
    "#### Initial Exploratory Data Analysis (EDA)"
   ]
  },
  {
   "cell_type": "code",
   "execution_count": 3,
   "metadata": {},
   "outputs": [
    {
     "data": {
      "text/plain": [
       "(284807, 31)"
      ]
     },
     "execution_count": 3,
     "metadata": {},
     "output_type": "execute_result"
    }
   ],
   "source": [
    "df.shape"
   ]
  },
  {
   "cell_type": "code",
   "execution_count": 4,
   "metadata": {},
   "outputs": [
    {
     "data": {
      "text/html": [
       "<div>\n",
       "<style scoped>\n",
       "    .dataframe tbody tr th:only-of-type {\n",
       "        vertical-align: middle;\n",
       "    }\n",
       "\n",
       "    .dataframe tbody tr th {\n",
       "        vertical-align: top;\n",
       "    }\n",
       "\n",
       "    .dataframe thead th {\n",
       "        text-align: right;\n",
       "    }\n",
       "</style>\n",
       "<table border=\"1\" class=\"dataframe\">\n",
       "  <thead>\n",
       "    <tr style=\"text-align: right;\">\n",
       "      <th></th>\n",
       "      <th>Time</th>\n",
       "      <th>V1</th>\n",
       "      <th>V2</th>\n",
       "      <th>V3</th>\n",
       "      <th>V4</th>\n",
       "      <th>V5</th>\n",
       "      <th>V6</th>\n",
       "      <th>V7</th>\n",
       "      <th>V8</th>\n",
       "      <th>V9</th>\n",
       "      <th>...</th>\n",
       "      <th>V21</th>\n",
       "      <th>V22</th>\n",
       "      <th>V23</th>\n",
       "      <th>V24</th>\n",
       "      <th>V25</th>\n",
       "      <th>V26</th>\n",
       "      <th>V27</th>\n",
       "      <th>V28</th>\n",
       "      <th>Amount</th>\n",
       "      <th>Class</th>\n",
       "    </tr>\n",
       "  </thead>\n",
       "  <tbody>\n",
       "    <tr>\n",
       "      <th>0</th>\n",
       "      <td>0.0</td>\n",
       "      <td>-1.359807</td>\n",
       "      <td>-0.072781</td>\n",
       "      <td>2.536347</td>\n",
       "      <td>1.378155</td>\n",
       "      <td>-0.338321</td>\n",
       "      <td>0.462388</td>\n",
       "      <td>0.239599</td>\n",
       "      <td>0.098698</td>\n",
       "      <td>0.363787</td>\n",
       "      <td>...</td>\n",
       "      <td>-0.018307</td>\n",
       "      <td>0.277838</td>\n",
       "      <td>-0.110474</td>\n",
       "      <td>0.066928</td>\n",
       "      <td>0.128539</td>\n",
       "      <td>-0.189115</td>\n",
       "      <td>0.133558</td>\n",
       "      <td>-0.021053</td>\n",
       "      <td>149.62</td>\n",
       "      <td>0</td>\n",
       "    </tr>\n",
       "    <tr>\n",
       "      <th>1</th>\n",
       "      <td>0.0</td>\n",
       "      <td>1.191857</td>\n",
       "      <td>0.266151</td>\n",
       "      <td>0.166480</td>\n",
       "      <td>0.448154</td>\n",
       "      <td>0.060018</td>\n",
       "      <td>-0.082361</td>\n",
       "      <td>-0.078803</td>\n",
       "      <td>0.085102</td>\n",
       "      <td>-0.255425</td>\n",
       "      <td>...</td>\n",
       "      <td>-0.225775</td>\n",
       "      <td>-0.638672</td>\n",
       "      <td>0.101288</td>\n",
       "      <td>-0.339846</td>\n",
       "      <td>0.167170</td>\n",
       "      <td>0.125895</td>\n",
       "      <td>-0.008983</td>\n",
       "      <td>0.014724</td>\n",
       "      <td>2.69</td>\n",
       "      <td>0</td>\n",
       "    </tr>\n",
       "    <tr>\n",
       "      <th>2</th>\n",
       "      <td>1.0</td>\n",
       "      <td>-1.358354</td>\n",
       "      <td>-1.340163</td>\n",
       "      <td>1.773209</td>\n",
       "      <td>0.379780</td>\n",
       "      <td>-0.503198</td>\n",
       "      <td>1.800499</td>\n",
       "      <td>0.791461</td>\n",
       "      <td>0.247676</td>\n",
       "      <td>-1.514654</td>\n",
       "      <td>...</td>\n",
       "      <td>0.247998</td>\n",
       "      <td>0.771679</td>\n",
       "      <td>0.909412</td>\n",
       "      <td>-0.689281</td>\n",
       "      <td>-0.327642</td>\n",
       "      <td>-0.139097</td>\n",
       "      <td>-0.055353</td>\n",
       "      <td>-0.059752</td>\n",
       "      <td>378.66</td>\n",
       "      <td>0</td>\n",
       "    </tr>\n",
       "    <tr>\n",
       "      <th>3</th>\n",
       "      <td>1.0</td>\n",
       "      <td>-0.966272</td>\n",
       "      <td>-0.185226</td>\n",
       "      <td>1.792993</td>\n",
       "      <td>-0.863291</td>\n",
       "      <td>-0.010309</td>\n",
       "      <td>1.247203</td>\n",
       "      <td>0.237609</td>\n",
       "      <td>0.377436</td>\n",
       "      <td>-1.387024</td>\n",
       "      <td>...</td>\n",
       "      <td>-0.108300</td>\n",
       "      <td>0.005274</td>\n",
       "      <td>-0.190321</td>\n",
       "      <td>-1.175575</td>\n",
       "      <td>0.647376</td>\n",
       "      <td>-0.221929</td>\n",
       "      <td>0.062723</td>\n",
       "      <td>0.061458</td>\n",
       "      <td>123.50</td>\n",
       "      <td>0</td>\n",
       "    </tr>\n",
       "    <tr>\n",
       "      <th>4</th>\n",
       "      <td>2.0</td>\n",
       "      <td>-1.158233</td>\n",
       "      <td>0.877737</td>\n",
       "      <td>1.548718</td>\n",
       "      <td>0.403034</td>\n",
       "      <td>-0.407193</td>\n",
       "      <td>0.095921</td>\n",
       "      <td>0.592941</td>\n",
       "      <td>-0.270533</td>\n",
       "      <td>0.817739</td>\n",
       "      <td>...</td>\n",
       "      <td>-0.009431</td>\n",
       "      <td>0.798278</td>\n",
       "      <td>-0.137458</td>\n",
       "      <td>0.141267</td>\n",
       "      <td>-0.206010</td>\n",
       "      <td>0.502292</td>\n",
       "      <td>0.219422</td>\n",
       "      <td>0.215153</td>\n",
       "      <td>69.99</td>\n",
       "      <td>0</td>\n",
       "    </tr>\n",
       "  </tbody>\n",
       "</table>\n",
       "<p>5 rows × 31 columns</p>\n",
       "</div>"
      ],
      "text/plain": [
       "   Time        V1        V2        V3        V4        V5        V6        V7  \\\n",
       "0   0.0 -1.359807 -0.072781  2.536347  1.378155 -0.338321  0.462388  0.239599   \n",
       "1   0.0  1.191857  0.266151  0.166480  0.448154  0.060018 -0.082361 -0.078803   \n",
       "2   1.0 -1.358354 -1.340163  1.773209  0.379780 -0.503198  1.800499  0.791461   \n",
       "3   1.0 -0.966272 -0.185226  1.792993 -0.863291 -0.010309  1.247203  0.237609   \n",
       "4   2.0 -1.158233  0.877737  1.548718  0.403034 -0.407193  0.095921  0.592941   \n",
       "\n",
       "         V8        V9  ...       V21       V22       V23       V24       V25  \\\n",
       "0  0.098698  0.363787  ... -0.018307  0.277838 -0.110474  0.066928  0.128539   \n",
       "1  0.085102 -0.255425  ... -0.225775 -0.638672  0.101288 -0.339846  0.167170   \n",
       "2  0.247676 -1.514654  ...  0.247998  0.771679  0.909412 -0.689281 -0.327642   \n",
       "3  0.377436 -1.387024  ... -0.108300  0.005274 -0.190321 -1.175575  0.647376   \n",
       "4 -0.270533  0.817739  ... -0.009431  0.798278 -0.137458  0.141267 -0.206010   \n",
       "\n",
       "        V26       V27       V28  Amount  Class  \n",
       "0 -0.189115  0.133558 -0.021053  149.62      0  \n",
       "1  0.125895 -0.008983  0.014724    2.69      0  \n",
       "2 -0.139097 -0.055353 -0.059752  378.66      0  \n",
       "3 -0.221929  0.062723  0.061458  123.50      0  \n",
       "4  0.502292  0.219422  0.215153   69.99      0  \n",
       "\n",
       "[5 rows x 31 columns]"
      ]
     },
     "execution_count": 4,
     "metadata": {},
     "output_type": "execute_result"
    }
   ],
   "source": [
    "df.head()"
   ]
  },
  {
   "cell_type": "code",
   "execution_count": 5,
   "metadata": {},
   "outputs": [
    {
     "data": {
      "text/plain": [
       "Index(['Time', 'V1', 'V2', 'V3', 'V4', 'V5', 'V6', 'V7', 'V8', 'V9', 'V10',\n",
       "       'V11', 'V12', 'V13', 'V14', 'V15', 'V16', 'V17', 'V18', 'V19', 'V20',\n",
       "       'V21', 'V22', 'V23', 'V24', 'V25', 'V26', 'V27', 'V28', 'Amount',\n",
       "       'Class'],\n",
       "      dtype='object')"
      ]
     },
     "execution_count": 5,
     "metadata": {},
     "output_type": "execute_result"
    }
   ],
   "source": [
    " df.columns"
   ]
  },
  {
   "cell_type": "code",
   "execution_count": 6,
   "metadata": {},
   "outputs": [
    {
     "name": "stdout",
     "output_type": "stream",
     "text": [
      "<class 'pandas.core.frame.DataFrame'>\n",
      "RangeIndex: 284807 entries, 0 to 284806\n",
      "Data columns (total 31 columns):\n",
      " #   Column  Non-Null Count   Dtype  \n",
      "---  ------  --------------   -----  \n",
      " 0   Time    284807 non-null  float64\n",
      " 1   V1      284807 non-null  float64\n",
      " 2   V2      284807 non-null  float64\n",
      " 3   V3      284807 non-null  float64\n",
      " 4   V4      284807 non-null  float64\n",
      " 5   V5      284807 non-null  float64\n",
      " 6   V6      284807 non-null  float64\n",
      " 7   V7      284807 non-null  float64\n",
      " 8   V8      284807 non-null  float64\n",
      " 9   V9      284807 non-null  float64\n",
      " 10  V10     284807 non-null  float64\n",
      " 11  V11     284807 non-null  float64\n",
      " 12  V12     284807 non-null  float64\n",
      " 13  V13     284807 non-null  float64\n",
      " 14  V14     284807 non-null  float64\n",
      " 15  V15     284807 non-null  float64\n",
      " 16  V16     284807 non-null  float64\n",
      " 17  V17     284807 non-null  float64\n",
      " 18  V18     284807 non-null  float64\n",
      " 19  V19     284807 non-null  float64\n",
      " 20  V20     284807 non-null  float64\n",
      " 21  V21     284807 non-null  float64\n",
      " 22  V22     284807 non-null  float64\n",
      " 23  V23     284807 non-null  float64\n",
      " 24  V24     284807 non-null  float64\n",
      " 25  V25     284807 non-null  float64\n",
      " 26  V26     284807 non-null  float64\n",
      " 27  V27     284807 non-null  float64\n",
      " 28  V28     284807 non-null  float64\n",
      " 29  Amount  284807 non-null  float64\n",
      " 30  Class   284807 non-null  int64  \n",
      "dtypes: float64(30), int64(1)\n",
      "memory usage: 67.4 MB\n"
     ]
    }
   ],
   "source": [
    "df.info()"
   ]
  },
  {
   "cell_type": "code",
   "execution_count": 7,
   "metadata": {},
   "outputs": [
    {
     "data": {
      "text/plain": [
       "Class\n",
       "0    284315\n",
       "1       492\n",
       "Name: count, dtype: int64"
      ]
     },
     "execution_count": 7,
     "metadata": {},
     "output_type": "execute_result"
    }
   ],
   "source": [
    "# looking at the distribution of the fraud vs. legitimate transactions\n",
    "df['Class'].value_counts()"
   ]
  },
  {
   "cell_type": "markdown",
   "metadata": {},
   "source": [
    "The dataset has 284,807 rows and 31 columns. Key fields include Time, Amount, and Class (the fraud label). The remaining features are numeric (likely PCA components). Only 492 rows are labeled as fraud, indicating a severe class imbalance that we’ll need to address during modeling.\n",
    "Features: all columns except Class\n",
    "Target: Class"
   ]
  },
  {
   "cell_type": "markdown",
   "metadata": {},
   "source": [
    "#### Data quality check"
   ]
  },
  {
   "cell_type": "code",
   "execution_count": 8,
   "metadata": {},
   "outputs": [
    {
     "data": {
      "text/plain": [
       "Time      0\n",
       "V1        0\n",
       "V2        0\n",
       "V3        0\n",
       "V4        0\n",
       "V5        0\n",
       "V6        0\n",
       "V7        0\n",
       "V8        0\n",
       "V9        0\n",
       "V10       0\n",
       "V11       0\n",
       "V12       0\n",
       "V13       0\n",
       "V14       0\n",
       "V15       0\n",
       "V16       0\n",
       "V17       0\n",
       "V18       0\n",
       "V19       0\n",
       "V20       0\n",
       "V21       0\n",
       "V22       0\n",
       "V23       0\n",
       "V24       0\n",
       "V25       0\n",
       "V26       0\n",
       "V27       0\n",
       "V28       0\n",
       "Amount    0\n",
       "Class     0\n",
       "dtype: int64"
      ]
     },
     "execution_count": 8,
     "metadata": {},
     "output_type": "execute_result"
    }
   ],
   "source": [
    "df.isnull().sum()"
   ]
  },
  {
   "cell_type": "code",
   "execution_count": 9,
   "metadata": {},
   "outputs": [
    {
     "data": {
      "text/plain": [
       "np.int64(1081)"
      ]
     },
     "execution_count": 9,
     "metadata": {},
     "output_type": "execute_result"
    }
   ],
   "source": [
    "df.duplicated().sum()"
   ]
  },
  {
   "cell_type": "markdown",
   "metadata": {},
   "source": [
    "Quick takeaways\n",
    "\n",
    "- No missing values.\n",
    "\n",
    "- There are 1,081 duplicate rows; we’ll remove those.\n",
    "\n",
    "- The Time column is probably seconds since the first transaction. A mean of 94,813 seconds is about 26 hours, so the data likely spans a few days."
   ]
  },
  {
   "cell_type": "code",
   "execution_count": 10,
   "metadata": {},
   "outputs": [
    {
     "data": {
      "text/plain": [
       "count    284807.000000\n",
       "mean         88.349619\n",
       "std         250.120109\n",
       "min           0.000000\n",
       "25%           5.600000\n",
       "50%          22.000000\n",
       "75%          77.165000\n",
       "max       25691.160000\n",
       "Name: Amount, dtype: float64"
      ]
     },
     "execution_count": 10,
     "metadata": {},
     "output_type": "execute_result"
    }
   ],
   "source": [
    "df['Amount'].describe()"
   ]
  },
  {
   "cell_type": "code",
   "execution_count": 11,
   "metadata": {},
   "outputs": [
    {
     "data": {
      "image/png": "[encoded data removed]",
      "text/plain": [
       "<Figure size 500x300 with 1 Axes>"
      ]
     },
     "metadata": {},
     "output_type": "display_data"
    }
   ],
   "source": [
    "plt.figure(figsize=(5, 3))\n",
    "plt.hist(df['Amount'], bins=50, alpha=0.7)\n",
    "plt.xlabel('Transaction Amount')\n",
    "plt.ylabel('Frequency')\n",
    "plt.title('Distribution of Transactions Amounts')\n",
    "plt.yscale('log')\n",
    "plt.show()"
   ]
  },
  {
   "cell_type": "markdown",
   "metadata": {},
   "source": [
    "Amount distribution\n",
    "\n",
    "- The amounts are heavily right-skewed, and there’s a big outlier around $25,691.\n",
    "\n",
    "- With such a long tail, the main part of the distribution gets squished. A log scale (or plotting np.log1p(Amount)) makes the pattern much easier to see."
   ]
  },
  {
   "cell_type": "code",
   "execution_count": 12,
   "metadata": {},
   "outputs": [
    {
     "data": {
      "text/plain": [
       "count    284807.000000\n",
       "mean      94813.859575\n",
       "std       47488.145955\n",
       "min           0.000000\n",
       "25%       54201.500000\n",
       "50%       84692.000000\n",
       "75%      139320.500000\n",
       "max      172792.000000\n",
       "Name: Time, dtype: float64"
      ]
     },
     "execution_count": 12,
     "metadata": {},
     "output_type": "execute_result"
    }
   ],
   "source": [
    "df['Time'].describe()"
   ]
  },
  {
   "cell_type": "code",
   "execution_count": 13,
   "metadata": {},
   "outputs": [
    {
     "data": {
      "text/plain": [
       "Class\n",
       "0     88.291022\n",
       "1    122.211321\n",
       "Name: Amount, dtype: float64"
      ]
     },
     "execution_count": 13,
     "metadata": {},
     "output_type": "execute_result"
    }
   ],
   "source": [
    "df.groupby('Class')['Amount'].mean()"
   ]
  },
  {
   "cell_type": "markdown",
   "metadata": {},
   "source": [
    "Amounts: on average, legitimate transactions are around $88, while fraud is closer to $122 — so fraud tends to be a bit higher."
   ]
  },
  {
   "cell_type": "code",
   "execution_count": 14,
   "metadata": {},
   "outputs": [
    {
     "data": {
      "image/png": "[encoded data removed]",
      "text/plain": [
       "<Figure size 800x400 with 2 Axes>"
      ]
     },
     "metadata": {},
     "output_type": "display_data"
    }
   ],
   "source": [
    "plt.figure(figsize=(8, 4))\n",
    "plt.subplot(1, 2, 1)\n",
    "df[df['Class'] == 0]['Amount'].hist(bins=50, alpha=0.7, color='blue')\n",
    "plt.xlabel('Amount')\n",
    "plt.title(\"Legitimate transactions\")\n",
    "plt.yscale('log')\n",
    "\n",
    "\n",
    "plt.subplot(1, 2, 2)\n",
    "df[df['Class'] == 1]['Amount'].hist(bins=50, alpha=0.7, color='red')\n",
    "plt.xlabel('Amount')\n",
    "plt.title(\"Fradulent transactions\")\n",
    "plt.tight_layout()\n",
    "plt.yscale('log')\n",
    "plt.show()"
   ]
  },
  {
   "cell_type": "markdown",
   "metadata": {},
   "source": [
    "When I plotted the histogram, I noticed the distribution is heavily skewed to the right, and there’s a big outlier around $25,000 that makes it hard to see the main shape of the data. From the summary stats, the mean amount is about $88, the minimum is $0 (no negative values), and the maximum is $25,691, which is clearly an outlier.\n",
    "\n",
    "Looking at the two histograms (fraud vs. legitimate):\n",
    "\n",
    "- Fraudulent transactions rarely go above $2,500, and most are under $1,000.\n",
    "\n",
    "- Legitimate transactions stretch much higher; often under $10,000, but some reach all the way to $25k.\n",
    "\n",
    "- The distribution for legitimate transactions looks smoother, probably because there’s way more data (hundreds of thousands of samples compared to just a few hundred fraud cases).\n",
    "\n",
    "This difference in spending patterns suggests that transaction amount will be a useful feature for the model."
   ]
  },
  {
   "cell_type": "markdown",
   "metadata": {},
   "source": [
    "#### Data Cleaning"
   ]
  },
  {
   "cell_type": "code",
   "execution_count": 15,
   "metadata": {},
   "outputs": [
    {
     "name": "stdout",
     "output_type": "stream",
     "text": [
      "Original shape: (284807, 31) \n",
      "After removing duplicates shape: (283726, 31) \n"
     ]
    }
   ],
   "source": [
    "# removing the duplicates \n",
    "df_clean = df.drop_duplicates()\n",
    "print(f\"Original shape: {df.shape} \")\n",
    "print(f\"After removing duplicates shape: {df_clean.shape} \")"
   ]
  },
  {
   "cell_type": "code",
   "execution_count": 16,
   "metadata": {},
   "outputs": [],
   "source": [
    "# creating a copy of the df so I can do feature engineering \n",
    "df_features = df_clean.copy()"
   ]
  },
  {
   "cell_type": "code",
   "execution_count": 17,
   "metadata": {},
   "outputs": [
    {
     "data": {
      "text/plain": [
       "Class\n",
       "0    283253\n",
       "1       473\n",
       "Name: count, dtype: int64"
      ]
     },
     "execution_count": 17,
     "metadata": {},
     "output_type": "execute_result"
    }
   ],
   "source": [
    "df_features['Class'].value_counts()"
   ]
  },
  {
   "cell_type": "markdown",
   "metadata": {},
   "source": [
    "#### Feature Engineering "
   ]
  },
  {
   "cell_type": "code",
   "execution_count": 18,
   "metadata": {},
   "outputs": [
    {
     "name": "stdout",
     "output_type": "stream",
     "text": [
      "Original Time statistics:\n",
      "count    283726.000000\n",
      "mean      94811.077600\n",
      "std       47481.047891\n",
      "min           0.000000\n",
      "25%       54204.750000\n",
      "50%       84692.500000\n",
      "75%      139298.000000\n",
      "max      172792.000000\n",
      "Name: Time, dtype: float64\n",
      "\n",
      "Time in hours range: 0.00 to 48.00\n",
      "That's about 2.0 days\n",
      "Unique hours: 24\n",
      "Hour range: 0 to 23\n"
     ]
    }
   ],
   "source": [
    "# creating time based features to have more features\n",
    "print(\"Original Time statistics:\")\n",
    "print(df_features['Time'].describe())\n",
    "\n",
    "\n",
    "#Convert seconds to hours\n",
    "df_features['Time_hours'] = df_features['Time'] /3600\n",
    "\n",
    "# extract hour of the day\n",
    "df_features[\"Hour_of_day\"] = (df_features['Time_hours'] % 24).astype(int)\n",
    "\n",
    "# creating a day feature\n",
    "df_features['Day'] = (df_features['Time_hours'] // 24).astype(int)\n",
    "\n",
    "print(f\"\\nTime in hours range: {df_features['Time_hours'].min():.2f} to {df_features['Time_hours'].max():.2f}\")\n",
    "print(f\"That's about {df_features['Time_hours'].max()/24:.1f} days\")\n",
    "print(f\"Unique hours: {len(df_features['Hour_of_day'].unique())}\")\n",
    "print(f\"Hour range: {df_features['Hour_of_day'].min()} to {df_features['Hour_of_day'].max()}\")"
   ]
  },
  {
   "cell_type": "markdown",
   "metadata": {},
   "source": [
    "Dataset spans 2 days (48 hours)\n",
    "All 24 hours represented (0-23)\n",
    "Time originally in seconds, now properly converted to hours"
   ]
  },
  {
   "cell_type": "code",
   "execution_count": 19,
   "metadata": {},
   "outputs": [
    {
     "name": "stdout",
     "output_type": "stream",
     "text": [
      "Fraud patterns by hour of day:\n",
      "             Total_transactions  Fraud_Count  Fraud_Rate\n",
      "Hour_of_day                                             \n",
      "0                          7647            6      0.0008\n",
      "1                          4208           10      0.0024\n",
      "2                          3308           48      0.0145\n",
      "3                          3487           17      0.0049\n",
      "4                          2204           23      0.0104\n",
      "5                          2988           11      0.0037\n",
      "6                          4082            9      0.0022\n",
      "7                          7233           23      0.0032\n",
      "8                         10232            9      0.0009\n",
      "9                         15767           16      0.0010\n",
      "10                        16548            8      0.0005\n",
      "11                        16781           53      0.0032\n",
      "12                        15378           17      0.0011\n",
      "13                        15323           17      0.0011\n",
      "14                        16520           23      0.0014\n",
      "15                        16374           26      0.0016\n",
      "16                        16396           22      0.0013\n",
      "17                        16130           28      0.0017\n",
      "18                        16959           28      0.0017\n",
      "19                        15566           19      0.0012\n",
      "20                        16705           18      0.0011\n",
      "21                        17629           16      0.0009\n",
      "22                        15378            9      0.0006\n",
      "23                        10883           17      0.0016\n"
     ]
    }
   ],
   "source": [
    "# analyzing fraud patterns by hour now\n",
    "fraud_by_hour = df_features.groupby('Hour_of_day')['Class'].agg(['count', 'sum', 'mean']).round(4)\n",
    "fraud_by_hour.columns = ['Total_transactions', 'Fraud_Count', 'Fraud_Rate']\n",
    "print(\"Fraud patterns by hour of day:\")\n",
    "print(fraud_by_hour)"
   ]
  },
  {
   "cell_type": "code",
   "execution_count": 20,
   "metadata": {},
   "outputs": [
    {
     "data": {
      "image/png": "[encoded data removed]",
      "text/plain": [
       "<Figure size 1500x500 with 3 Axes>"
      ]
     },
     "metadata": {},
     "output_type": "display_data"
    }
   ],
   "source": [
    "plt.figure(figsize=(15, 5))\n",
    "\n",
    "plt.subplot(1, 3, 1)\n",
    "fraud_by_hour['Fraud_Rate'].plot(kind='bar', color='red', alpha=0.7)\n",
    "plt.title('Fraud Rate by Hour')\n",
    "plt.xlabel('Hour of Day')\n",
    "plt.ylabel('Fraud Rate')\n",
    "\n",
    "plt.subplot(1, 3, 2)\n",
    "fraud_by_hour['Total_transactions'].plot(kind='bar', color='blue', alpha=0.7)\n",
    "plt.title('Total Transactions by Hour')\n",
    "plt.xlabel('Hour of Day')\n",
    "plt.ylabel('Count')\n",
    "\n",
    "plt.subplot(1, 3, 3)\n",
    "fraud_by_hour['Fraud_Count'].plot(kind='bar', color='orange', alpha=0.7)\n",
    "plt.title('Fraud Count by Hour')\n",
    "plt.xlabel('Hour of Day')\n",
    "plt.ylabel('Count')\n",
    "\n",
    "plt.tight_layout()\n",
    "plt.show()"
   ]
  },
  {
   "cell_type": "markdown",
   "metadata": {},
   "source": [
    "When I break it down by hour, the fraud rate moves opposite to total transaction volume. During business hours, there are lots of transactions and the fraud rate is lower. In the late night/early morning (around 1–2 AM), overall activity drops but the fraud rate goes up.\n",
    "\n",
    "Also, the count of fraud cases still tends to be higher during busy hours simply because there are more transactions overall even if the rate is lower then."
   ]
  },
  {
   "cell_type": "code",
   "execution_count": 21,
   "metadata": {},
   "outputs": [
    {
     "name": "stdout",
     "output_type": "stream",
     "text": [
      "Amount categories distribution\n",
      "Amount_category\n",
      "Very_low    98013\n",
      "Low         90327\n",
      "Medium      64808\n",
      "High        28770\n",
      "Name: count, dtype: int64\n",
      "\n",
      "Fraud rat by amount category:\n",
      "Amount_category\n",
      "Very_low    0.0022\n",
      "Low         0.0006\n",
      "Medium      0.0015\n",
      "High        0.0029\n",
      "Name: Class, dtype: float64\n"
     ]
    }
   ],
   "source": [
    "# creating amount based features\n",
    "df_features['Amount_log'] = np.log1p(df_features['Amount'])\n",
    "\n",
    "#amoutn categories \n",
    "df_features[\"Amount_category\"] = pd.cut(df_features['Amount'], bins=[0, 10, 50, 200, float('inf')], labels=['Very_low', 'Low', 'Medium', 'High'])\n",
    "\n",
    "print(\"Amount categories distribution\")\n",
    "print(df_features['Amount_category'].value_counts())\n",
    "print(\"\\nFraud rat by amount category:\")\n",
    "print(df_features.groupby('Amount_category')['Class'].mean().round(4))"
   ]
  },
  {
   "cell_type": "markdown",
   "metadata": {},
   "source": [
    "Most transactions fall into the very low ($0–10) and low ($10–50) ranges, with fewer in the medium range and only a small number in the high range. This shows the data is pretty skewed.\n",
    "\n",
    "What’s interesting is the fraud rates by category:\n",
    "\n",
    "- High amounts (>$200) have the highest fraud rate.\n",
    "\n",
    "- Very low amounts ($0–10) also have a surprisingly high fraud rate.\n",
    "\n",
    "- Medium ($50–200) is lower.\n",
    "\n",
    "- Low ($10–50) has the lowest fraud rate.\n",
    "\n",
    "So there’s a kind of U-shaped pattern: fraud is more common at the extremes (very cheap or very expensive transactions). This makes transaction amount a very useful feature for the model."
   ]
  },
  {
   "cell_type": "code",
   "execution_count": 22,
   "metadata": {},
   "outputs": [],
   "source": [
    "#selecting the features for modelling\n",
    "feature_columns = ['Time', 'Amount', 'Amount_log', 'Hour_of_day', 'Day'] + \\\n",
    "                [col for col in df_features.columns if col.startswith('V')]"
   ]
  },
  {
   "cell_type": "code",
   "execution_count": 23,
   "metadata": {},
   "outputs": [
    {
     "name": "stdout",
     "output_type": "stream",
     "text": [
      "Feature matrix shape: (283726, 33)\n",
      "Target vector shape: (283726,)\n",
      "Features: 33\n",
      "Class distribution: {0: 283253, 1: 473}\n"
     ]
    }
   ],
   "source": [
    "# preparing X features and the target\n",
    "X = df_features[feature_columns].copy()\n",
    "y = df_features['Class'].copy()\n",
    "\n",
    "print(f\"Feature matrix shape: {X.shape}\")\n",
    "print(f\"Target vector shape: {y.shape}\")\n",
    "print(f\"Features: {len(feature_columns)}\")\n",
    "print(f\"Class distribution: {y.value_counts().to_dict()}\")"
   ]
  },
  {
   "cell_type": "code",
   "execution_count": 24,
   "metadata": {},
   "outputs": [
    {
     "name": "stdout",
     "output_type": "stream",
     "text": [
      "\n",
      "Any missing values in features:\n",
      "0\n"
     ]
    }
   ],
   "source": [
    "# double checking for any remaining issues\n",
    "print(\"\\nAny missing values in features:\")\n",
    "print(X.isnull().sum().sum())"
   ]
  },
  {
   "cell_type": "markdown",
   "metadata": {},
   "source": [
    "#### Train/Test Split"
   ]
  },
  {
   "cell_type": "code",
   "execution_count": 25,
   "metadata": {},
   "outputs": [],
   "source": [
    "#splitting the data \n",
    "X_train, X_test, y_train, y_test = train_test_split(X, y, test_size=0.2, random_state=77, stratify=y)"
   ]
  },
  {
   "cell_type": "code",
   "execution_count": 26,
   "metadata": {},
   "outputs": [
    {
     "name": "stdout",
     "output_type": "stream",
     "text": [
      "Training set: 226980 samples\n",
      "Test set: 56746 samples\n",
      "Training fraud rate:0.0017\n",
      "Test fraud rate: 0.0017\n"
     ]
    }
   ],
   "source": [
    "print(f\"Training set: {X_train.shape[0]} samples\")\n",
    "print(f\"Test set: {X_test.shape[0]} samples\")\n",
    "print(f\"Training fraud rate:{y_train.mean():.4f}\")\n",
    "print(f\"Test fraud rate: {y_test.mean():.4f}\")"
   ]
  },
  {
   "cell_type": "code",
   "execution_count": 27,
   "metadata": {},
   "outputs": [
    {
     "name": "stdout",
     "output_type": "stream",
     "text": [
      "Scaled training shape: (226980, 33)\n",
      "Features are now standardized!\n"
     ]
    }
   ],
   "source": [
    "# scaling the features\n",
    "scaler = StandardScaler()\n",
    "X_train_scaled = scaler.fit_transform(X_train)\n",
    "X_test_scaled = scaler.transform(X_test)\n",
    "\n",
    "print(f\"Scaled training shape: {X_train_scaled.shape}\")\n",
    "print(\"Features are now standardized!\")"
   ]
  },
  {
   "cell_type": "markdown",
   "metadata": {},
   "source": [
    "#### Baseline Model - Logistic Regression"
   ]
  },
  {
   "cell_type": "markdown",
   "metadata": {},
   "source": [
    "We are using ROC-AUC because it is crucial for imbalanced data like fraud detection. (it measures how well the model distinguishes between fraud and legitimate transactions.)"
   ]
  },
  {
   "cell_type": "code",
   "execution_count": 28,
   "metadata": {},
   "outputs": [
    {
     "name": "stdout",
     "output_type": "stream",
     "text": [
      "Logistic Regression results:\n",
      "ROC_AUC Score: 0.9683\n",
      "\n",
      "Classification Report:\n",
      "              precision    recall  f1-score   support\n",
      "\n",
      "           0       1.00      1.00      1.00     56651\n",
      "           1       0.92      0.59      0.72        95\n",
      "\n",
      "    accuracy                           1.00     56746\n",
      "   macro avg       0.96      0.79      0.86     56746\n",
      "weighted avg       1.00      1.00      1.00     56746\n",
      "\n"
     ]
    }
   ],
   "source": [
    "# train logistic regression\n",
    "lr_model = LogisticRegression(random_state=77, max_iter=1000)\n",
    "lr_model.fit(X_train_scaled, y_train)\n",
    "\n",
    "# predictions\n",
    "y_pred_lr = lr_model.predict(X_test_scaled)\n",
    "y_pred_proba_lr = lr_model.predict_proba(X_test_scaled)[:, 1]\n",
    "\n",
    "print(\"Logistic Regression results:\")\n",
    "print(f\"ROC_AUC Score: {roc_auc_score(y_test, y_pred_proba_lr):.4f}\")\n",
    "print(\"\\nClassification Report:\")\n",
    "print(classification_report(y_test, y_pred_lr))"
   ]
  },
  {
   "cell_type": "markdown",
   "metadata": {},
   "source": [
    "Model performance (Logistic Regression)\n",
    "\n",
    "- ROC-AUC: 0.968 strong separation between fraud and legit.\n",
    "\n",
    "Class 0: Legitimate\n",
    "\n",
    "- Precision: 1.00\n",
    "\n",
    "- Recall: 1.00\n",
    "\n",
    "- Interpretion: this class is easy due to its size; the model nails it.\n",
    "\n",
    "Class 1: Fraud (the important one)\n",
    "\n",
    "- Precision: 0.92 → when the model flags fraud, it’s right 92% of the time.\n",
    "\n",
    "- Recall: 0.59 → it catches 59% of actual fraud cases.\n",
    "\n",
    "Trade-off\n",
    "\n",
    "- High precision means fewer false alarms.\n",
    "\n",
    "- Lower recall means more fraud slips through.\n",
    "\n",
    "Business impact (on the test set)\n",
    "\n",
    "- ~95 actual frauds → ~56 caught, ~39 missed.\n",
    "\n",
    "- When the system flags a transaction as fraud, it’s usually correct (92%), but it misses some fraud.\n",
    "\n",
    "If the goal is to miss fewer frauds, we should tune for higher recall (even if precision drops)."
   ]
  },
  {
   "cell_type": "code",
   "execution_count": 29,
   "metadata": {},
   "outputs": [
    {
     "name": "stdout",
     "output_type": "stream",
     "text": [
      "Top 10 most important features:\n",
      "   feature  importance\n",
      "8       V4    0.865766\n",
      "14     V10    0.720726\n",
      "18     V14    0.586042\n",
      "26     V22    0.534879\n",
      "17     V13    0.439604\n",
      "13      V9    0.350899\n",
      "20     V16    0.293015\n",
      "25     V21    0.281946\n",
      "24     V20    0.275902\n",
      "12      V8    0.222605\n"
     ]
    }
   ],
   "source": [
    "# feature importance from Logistic Reression\n",
    "feature_importance = pd.DataFrame({\n",
    "    'feature': X.columns,\n",
    "    'importance': abs(lr_model.coef_[0])\n",
    "}).sort_values('importance', ascending=False)\n",
    "\n",
    "print(\"Top 10 most important features:\")\n",
    "print(feature_importance.head(10))"
   ]
  },
  {
   "cell_type": "markdown",
   "metadata": {},
   "source": [
    "#### Second Baseline Model - Decision Tree"
   ]
  },
  {
   "cell_type": "code",
   "execution_count": 30,
   "metadata": {},
   "outputs": [
    {
     "name": "stdout",
     "output_type": "stream",
     "text": [
      "Decision Tree Results:\n",
      "ROC-AUC Score: 0.8946\n",
      "\n",
      "Classification Report:\n",
      "              precision    recall  f1-score   support\n",
      "\n",
      "           0       1.00      1.00      1.00     56651\n",
      "           1       0.82      0.79      0.80        95\n",
      "\n",
      "    accuracy                           1.00     56746\n",
      "   macro avg       0.91      0.89      0.90     56746\n",
      "weighted avg       1.00      1.00      1.00     56746\n",
      "\n"
     ]
    }
   ],
   "source": [
    "# defining the decision tree model\n",
    "dt_model = DecisionTreeClassifier(random_state=77, max_depth=10, min_samples_split=100)\n",
    "dt_model.fit(X_train, y_train)\n",
    "\n",
    "# making predictions\n",
    "y_pred_dt = dt_model.predict(X_test)\n",
    "y_pred_proba_dt = dt_model.predict_proba(X_test)[:, 1]\n",
    "\n",
    "print(\"Decision Tree Results:\")\n",
    "print(f\"ROC-AUC Score: {roc_auc_score(y_test, y_pred_dt):.4f}\")\n",
    "print(\"\\nClassification Report:\")\n",
    "print(classification_report(y_test, y_pred_dt))"
   ]
  },
  {
   "cell_type": "code",
   "execution_count": 31,
   "metadata": {},
   "outputs": [
    {
     "name": "stdout",
     "output_type": "stream",
     "text": [
      "Decision Tree - Top 10 Features:\n",
      "   feature  importance\n",
      "21     V17    0.714267\n",
      "18     V14    0.104342\n",
      "16     V12    0.049186\n",
      "14     V10    0.043062\n",
      "31     V27    0.036385\n",
      "30     V26    0.022281\n",
      "11      V7    0.008904\n",
      "8       V4    0.007749\n",
      "25     V21    0.005417\n",
      "19     V15    0.003427\n"
     ]
    }
   ],
   "source": [
    "# comparing feature importance for the decision tree model\n",
    "dt_importance = pd.DataFrame({\n",
    "    'feature': X.columns,\n",
    "    'importance': dt_model.feature_importances_\n",
    "}).sort_values('importance', ascending=False)\n",
    "\n",
    "print(\"Decision Tree - Top 10 Features:\")\n",
    "print(dt_importance.head(10))"
   ]
  },
  {
   "cell_type": "markdown",
   "metadata": {},
   "source": [
    "Key Insights:\n",
    "\n",
    "- Logistic Regression: Better overall performance, fewer false alarms\n",
    "\n",
    "- Decision Tree: Catches more actual fraud (higher recall) but with more false positives\n",
    "\n",
    "- Both models: Heavily rely on V features (the PCA-transformed financial data)\n",
    "\n",
    "- Our time/amount features aren't showing up as top predictors, which suggests the V features already capture most predictive patterns."
   ]
  },
  {
   "cell_type": "markdown",
   "metadata": {},
   "source": [
    "#### Third Model - XGBoost(The Power Model)"
   ]
  },
  {
   "cell_type": "code",
   "execution_count": 32,
   "metadata": {},
   "outputs": [
    {
     "name": "stderr",
     "output_type": "stream",
     "text": [
      "C:\\Users\\saramirjalili\\sara_env\\Lib\\site-packages\\xgboost\\training.py:183: UserWarning: [14:35:28] WARNING: C:\\actions-runner\\_work\\xgboost\\xgboost\\src\\learner.cc:738: \n",
      "Parameters: { \"use_label_encoder\" } are not used.\n",
      "\n",
      "  bst.update(dtrain, iteration=i, fobj=obj)\n"
     ]
    },
    {
     "name": "stdout",
     "output_type": "stream",
     "text": [
      "XGBoost Results:\n",
      "ROC-AUC Score: 0.8841\n",
      "\n",
      "Classification Report:\n",
      "              precision    recall  f1-score   support\n",
      "\n",
      "           0       1.00      1.00      1.00     56651\n",
      "           1       0.89      0.77      0.82        95\n",
      "\n",
      "    accuracy                           1.00     56746\n",
      "   macro avg       0.94      0.88      0.91     56746\n",
      "weighted avg       1.00      1.00      1.00     56746\n",
      "\n"
     ]
    }
   ],
   "source": [
    "# loading the XGBoost model\n",
    "xgb_model = xgb.XGBClassifier(random_state=77, eval_metric='logloss', use_label_encoder=False)\n",
    "xgb_model.fit(X_train, y_train)\n",
    "\n",
    "# prediction outcomes by the xgb model\n",
    "y_pred_xgb = xgb_model.predict(X_test)\n",
    "y_pred_proba_xgb = xgb_model.predict_proba(X_test)[:, 1]\n",
    "\n",
    "print(\"XGBoost Results:\")\n",
    "print(f\"ROC-AUC Score: {roc_auc_score(y_test, y_pred_xgb):.4f}\")\n",
    "print(\"\\nClassification Report:\")\n",
    "print(classification_report(y_test, y_pred_xgb))"
   ]
  },
  {
   "cell_type": "code",
   "execution_count": 33,
   "metadata": {},
   "outputs": [
    {
     "name": "stdout",
     "output_type": "stream",
     "text": [
      "Model Comparison Summary:\n",
      "                 Model  ROC_AUC  Fraud_Precision  Fraud_Recall  \\\n",
      "0  Logistic Regression   0.9683             0.92          0.59   \n",
      "1        Decision Tree   0.8946             0.82          0.79   \n",
      "2              XGBoost   0.8841             0.89          0.77   \n",
      "\n",
      "       Business_Impact  \n",
      "0  Fewest false alarms  \n",
      "1   catches most fraud  \n",
      "2             Balanced  \n"
     ]
    }
   ],
   "source": [
    "# summary of all models \n",
    "model_comparison = pd.DataFrame({\n",
    "    'Model': ['Logistic Regression', 'Decision Tree', 'XGBoost'],\n",
    "    'ROC_AUC': [0.9683, 0.8946, 0.8841],\n",
    "    'Fraud_Precision': [0.92, 0.82, 0.89],\n",
    "    'Fraud_Recall': [0.59, 0.79, 0.77],\n",
    "    'Business_Impact': ['Fewest false alarms', 'catches most fraud', 'Balanced']\n",
    "})\n",
    "\n",
    "print(\"Model Comparison Summary:\")\n",
    "print(model_comparison)"
   ]
  },
  {
   "cell_type": "markdown",
   "metadata": {},
   "source": [
    "Business question: In fraud detection, what matters more: avoiding false alarms (high precision) or catching more fraud (high recall)?\n",
    "\n",
    "For banks, higher recall usually wins.\n",
    "\n",
    "- A missed fraud costs real money and trust.\n",
    "\n",
    "- A false alarm is mostly a brief customer check.\n",
    "\n",
    "- Reputational and regulatory risk from missed fraud is worse than occasional friction.\n",
    "\n",
    "What this means for our models:\n",
    "\n",
    "- Decision Tree: recall 0.79 —> catches most fraud.\n",
    "\n",
    "- XGBoost: recall 0.77 —> also strong.\n",
    "\n",
    "- Logistic Regression: recall 0.59 —> misses more fraud.\n",
    "\n",
    "If the goal is to miss fewer frauds, we should lean toward the models with higher recall."
   ]
  },
  {
   "cell_type": "markdown",
   "metadata": {},
   "source": [
    "#### Optimize for Better Recall\n",
    "Improving the best model's recall (DT):"
   ]
  },
  {
   "cell_type": "code",
   "execution_count": 34,
   "metadata": {},
   "outputs": [
    {
     "name": "stdout",
     "output_type": "stream",
     "text": [
      "Best parmeters: {'class_weight': 'balanced', 'max_depth': 8, 'min_samples_split': 200}\n",
      "Best recall scores: 0.8174603174603176\n"
     ]
    }
   ],
   "source": [
    "param_grid ={\n",
    "    'max_depth': [8, 10, 15],\n",
    "    'min_samples_split': [50, 100, 200],\n",
    "    'class_weight': [None, 'balanced'] # -> this helps with the imbalanced data\n",
    "}\n",
    "\n",
    "\n",
    "# using recall as the scoring metric\n",
    "grid_search = GridSearchCV(\n",
    "    DecisionTreeClassifier(random_state=77),\n",
    "    param_grid,\n",
    "    cv=3,\n",
    "    scoring='recall',\n",
    "    n_jobs=-1\n",
    ")\n",
    "\n",
    "grid_search.fit(X_train, y_train)\n",
    "\n",
    "print(\"Best parmeters:\", grid_search.best_params_)\n",
    "print(\"Best recall scores:\", grid_search.best_score_)"
   ]
  },
  {
   "cell_type": "markdown",
   "metadata": {},
   "source": [
    "Best parameters: class_weight='balanced', max_depth=8, min_samples_split=200\n",
    "Cross-validated recall: 0.8175 (up from 0.79, about a 3-point gain)\n",
    "\n",
    "Why this helps\n",
    "\n",
    "- class_weight='balanced' counteracts the heavy class imbalance.\n",
    "\n",
    "- A shallower tree (max_depth=8) reduces overfitting.\n",
    "\n",
    "- Larger min_samples_split=200 forces more robust, less noisy splits."
   ]
  },
  {
   "cell_type": "code",
   "execution_count": 35,
   "metadata": {},
   "outputs": [
    {
     "name": "stdout",
     "output_type": "stream",
     "text": [
      "Fitting 3 folds for each of 108 candidates, totalling 324 fits\n"
     ]
    },
    {
     "name": "stderr",
     "output_type": "stream",
     "text": [
      "C:\\Users\\saramirjalili\\sara_env\\Lib\\site-packages\\xgboost\\training.py:183: UserWarning: [14:44:22] WARNING: C:\\actions-runner\\_work\\xgboost\\xgboost\\src\\learner.cc:738: \n",
      "Parameters: { \"use_label_encoder\" } are not used.\n",
      "\n",
      "  bst.update(dtrain, iteration=i, fobj=obj)\n"
     ]
    },
    {
     "name": "stdout",
     "output_type": "stream",
     "text": [
      "Best XGBoost parameters: {'learning_rate': 0.1, 'max_depth': 3, 'n_estimators': 100, 'scale_pos_weight': 20, 'subsample': 0.8}\n",
      "Best recall score: 0.8227513227513228\n",
      "\n",
      "Optimized XGBoost Results:\n",
      "ROC-AUC Score: 0.9725\n",
      "\n",
      "Classification Report:\n",
      "              precision    recall  f1-score   support\n",
      "\n",
      "           0       1.00      1.00      1.00     56651\n",
      "           1       0.78      0.85      0.81        95\n",
      "\n",
      "    accuracy                           1.00     56746\n",
      "   macro avg       0.89      0.93      0.91     56746\n",
      "weighted avg       1.00      1.00      1.00     56746\n",
      "\n",
      "\n",
      "Confusion Matrix:\n",
      "True Negatives: 56628\n",
      "False Positives: 23\n",
      "False Negatives: 14\n",
      "True Positives: 81\n"
     ]
    }
   ],
   "source": [
    "# XGBoost hyperparameter tuning\n",
    "\n",
    "#parameter grid for XGBoost\n",
    "xgb_param_grid = {\n",
    "    'n_estimators': [100, 200],\n",
    "    'max_depth': [3, 6, 10], \n",
    "    'learning_rate': [0.01, 0.1, 0.2],\n",
    "    'scale_pos_weight': [1, 10, 20], \n",
    "    'subsample': [0.8, 1.0]\n",
    "}\n",
    "\n",
    "# recall as the scorign metric\n",
    "xgb_grid = GridSearchCV(\n",
    "    xgb.XGBClassifier(random_state=77, eval_metric='logloss', use_label_encoder=False),\n",
    "    xgb_param_grid,\n",
    "    cv=3,\n",
    "    scoring='recall',\n",
    "    n_jobs=-1,\n",
    "    verbose=1  \n",
    ")\n",
    "\n",
    "# fitting the grid search\n",
    "xgb_grid.fit(X_train, y_train)\n",
    "\n",
    "print(\"Best XGBoost parameters:\", xgb_grid.best_params_)\n",
    "print(\"Best recall score:\", xgb_grid.best_score_)\n",
    "\n",
    "#training optimized XGBoost model\n",
    "optimized_xgb = xgb_grid.best_estimator_\n",
    "y_pred_xgb_opt = optimized_xgb.predict(X_test)\n",
    "y_pred_proba_xgb_opt = optimized_xgb.predict_proba(X_test)[:, 1]\n",
    "\n",
    "print(\"\\nOptimized XGBoost Results:\")\n",
    "print(f\"ROC-AUC Score: {roc_auc_score(y_test, y_pred_proba_xgb_opt):.4f}\")\n",
    "print(\"\\nClassification Report:\")\n",
    "print(classification_report(y_test, y_pred_xgb_opt))\n",
    "\n",
    "# Confusion matrix\n",
    "cm_xgb = confusion_matrix(y_test, y_pred_xgb_opt)\n",
    "print(f\"\\nConfusion Matrix:\")\n",
    "print(f\"True Negatives: {cm_xgb[0,0]}\")\n",
    "print(f\"False Positives: {cm_xgb[0,1]}\")\n",
    "print(f\"False Negatives: {cm_xgb[1,0]}\")\n",
    "print(f\"True Positives: {cm_xgb[1,1]}\")"
   ]
  },
  {
   "cell_type": "markdown",
   "metadata": {},
   "source": [
    "#### Evaluate the optimized model"
   ]
  },
  {
   "cell_type": "code",
   "execution_count": 36,
   "metadata": {},
   "outputs": [
    {
     "name": "stdout",
     "output_type": "stream",
     "text": [
      "Optimized Decision Tree Results:\n",
      "ROC-AUC Score: 0.8993385168097559\n",
      "\n",
      "Classification Report:\n",
      "              precision    recall  f1-score   support\n",
      "\n",
      "           0       1.00      0.98      0.99     56651\n",
      "           1       0.07      0.86      0.13        95\n",
      "\n",
      "    accuracy                           0.98     56746\n",
      "   macro avg       0.54      0.92      0.56     56746\n",
      "weighted avg       1.00      0.98      0.99     56746\n",
      "\n",
      "\n",
      "Confusion Matrix:\n",
      "True Negatives: 55573\n",
      "False Positives: 1078\n",
      "False Negatives: 13\n",
      "True Positives: 82\n"
     ]
    }
   ],
   "source": [
    "# train the optimized model\n",
    "optimized_dt = DecisionTreeClassifier(\n",
    "    max_depth=8,\n",
    "    min_samples_split=200,\n",
    "    class_weight='balanced',\n",
    "    random_state=77\n",
    ")\n",
    "\n",
    "# loading the model\n",
    "optimized_dt.fit(X_train, y_train)\n",
    "\n",
    "# make predictions\n",
    "y_pred_opt = optimized_dt.predict(X_test)\n",
    "y_pred_proba_opt = optimized_dt.predict_proba(X_test)[:, 1]\n",
    "\n",
    "\n",
    "print(\"Optimized Decision Tree Results:\")\n",
    "print(f\"ROC-AUC Score: {roc_auc_score(y_test, y_pred_proba_opt)}\")\n",
    "print(\"\\nClassification Report:\")\n",
    "print(classification_report(y_test, y_pred_opt))\n",
    "\n",
    "\n",
    "# create confusuion matric\n",
    "cm = confusion_matrix(y_test, y_pred_opt)\n",
    "print(f\"\\nConfusion Matrix:\")\n",
    "print(f\"True Negatives: {cm[0,0]}\")\n",
    "print(f\"False Positives: {cm[0,1]}\")  \n",
    "print(f\"False Negatives: {cm[1,0]}\")\n",
    "print(f\"True Positives: {cm[1,1]}\")"
   ]
  },
  {
   "cell_type": "markdown",
   "metadata": {},
   "source": [
    "Business impact (optimized model)\n",
    "\n",
    "- Recall: 86% —> caught 82/95 frauds; 13 missed.\n",
    "\n",
    "-  ROC-AUC: 0.899 (up from 0.895).\n",
    "\n",
    "Trade-offs\n",
    "\n",
    "- False positives: 1,078 legit transactions flagged.\n",
    "\n",
    "- True negatives: 55,573 correctly cleared.\n",
    "\n",
    "- Precision (fraud): 7% —> expected when we push for recall.\n",
    "\n",
    "For every 1 real fraud we catch, we trigger about 13 false alarms.\n",
    "\n",
    "we’re missing  about 13% of actual frauds.\n",
    "\n",
    "We should keep recall high but reduce false alarms with:\n",
    "\n",
    "- A slightly higher decision threshold on the fraud probability,\n",
    "\n",
    "- Post-filters (e.g., block only high-risk segments: odd hours + high amount),\n",
    "\n",
    "- A secondary check (rules or lightweight model) for alerts before final action."
   ]
  },
  {
   "cell_type": "code",
   "execution_count": 37,
   "metadata": {},
   "outputs": [
    {
     "name": "stdout",
     "output_type": "stream",
     "text": [
      "=== THRESHOLD OPTIMIZATION ===\n"
     ]
    },
    {
     "data": {
      "image/png": "[encoded data removed]",
      "text/plain": [
       "<Figure size 1000x600 with 1 Axes>"
      ]
     },
     "metadata": {},
     "output_type": "display_data"
    },
    {
     "name": "stdout",
     "output_type": "stream",
     "text": [
      "Optimal threshold for 0.9 recall: 0.0000\n",
      "At this threshold - Precision: 0.002, Recall: 1.000\n",
      "\n",
      "=== RESULTS WITH OPTIMIZED THRESHOLD ===\n",
      "              precision    recall  f1-score   support\n",
      "\n",
      "           0       0.00      0.00      0.00     56651\n",
      "           1       0.00      1.00      0.00        95\n",
      "\n",
      "    accuracy                           0.00     56746\n",
      "   macro avg       0.00      0.50      0.00     56746\n",
      "weighted avg       0.00      0.00      0.00     56746\n",
      "\n",
      "\n",
      "New Confusion Matrix:\n",
      "True Negatives: 0\n",
      "False Positives: 56651\n",
      "False Negatives: 0\n",
      "True Positives: 95\n"
     ]
    },
    {
     "name": "stderr",
     "output_type": "stream",
     "text": [
      "C:\\Users\\saramirjalili\\sara_env\\Lib\\site-packages\\sklearn\\metrics\\_classification.py:1731: UndefinedMetricWarning: Precision is ill-defined and being set to 0.0 in labels with no predicted samples. Use `zero_division` parameter to control this behavior.\n",
      "  _warn_prf(average, modifier, f\"{metric.capitalize()} is\", result.shape[0])\n",
      "C:\\Users\\saramirjalili\\sara_env\\Lib\\site-packages\\sklearn\\metrics\\_classification.py:1731: UndefinedMetricWarning: Precision is ill-defined and being set to 0.0 in labels with no predicted samples. Use `zero_division` parameter to control this behavior.\n",
      "  _warn_prf(average, modifier, f\"{metric.capitalize()} is\", result.shape[0])\n",
      "C:\\Users\\saramirjalili\\sara_env\\Lib\\site-packages\\sklearn\\metrics\\_classification.py:1731: UndefinedMetricWarning: Precision is ill-defined and being set to 0.0 in labels with no predicted samples. Use `zero_division` parameter to control this behavior.\n",
      "  _warn_prf(average, modifier, f\"{metric.capitalize()} is\", result.shape[0])\n"
     ]
    }
   ],
   "source": [
    "# === THRESHOLD ADJUSTMENT (ADD THIS AFTER STEP 18) ===\n",
    "print(\"=== THRESHOLD OPTIMIZATION ===\")\n",
    "\n",
    "from sklearn.metrics import precision_recall_curve\n",
    "import matplotlib.pyplot as plt\n",
    "\n",
    "# Get probabilities for test set (you already have this)\n",
    "y_pred_proba_opt = optimized_dt.predict_proba(X_test)[:, 1]\n",
    "\n",
    "# Find optimal threshold for better recall\n",
    "precisions, recalls, thresholds = precision_recall_curve(y_test, y_pred_proba_opt)\n",
    "\n",
    "# Plot precision-recall curve\n",
    "plt.figure(figsize=(10, 6))\n",
    "plt.plot(thresholds, precisions[:-1], 'b--', label='Precision')\n",
    "plt.plot(thresholds, recalls[:-1], 'r-', label='Recall')\n",
    "plt.xlabel('Threshold')\n",
    "plt.ylabel('Score')\n",
    "plt.title('Precision-Recall vs Threshold')\n",
    "plt.legend()\n",
    "plt.grid(True)\n",
    "plt.show()\n",
    "\n",
    "# Find threshold for 90% recall\n",
    "target_recall = 0.90\n",
    "best_threshold_idx = np.argmax(recalls >= target_recall)\n",
    "optimal_threshold = thresholds[best_threshold_idx] if best_threshold_idx < len(thresholds) else 0.1\n",
    "\n",
    "print(f\"Optimal threshold for {target_recall} recall: {optimal_threshold:.4f}\")\n",
    "print(f\"At this threshold - Precision: {precisions[best_threshold_idx]:.3f}, Recall: {recalls[best_threshold_idx]:.3f}\")\n",
    "\n",
    "# Apply new threshold\n",
    "y_pred_new_threshold = (y_pred_proba_opt >= optimal_threshold).astype(int)\n",
    "\n",
    "print(\"\\n=== RESULTS WITH OPTIMIZED THRESHOLD ===\")\n",
    "print(classification_report(y_test, y_pred_new_threshold))\n",
    "\n",
    "# Update confusion matrix\n",
    "cm_new = confusion_matrix(y_test, y_pred_new_threshold)\n",
    "print(f\"\\nNew Confusion Matrix:\")\n",
    "print(f\"True Negatives: {cm_new[0,0]}\")\n",
    "print(f\"False Positives: {cm_new[0,1]}\")\n",
    "print(f\"False Negatives: {cm_new[1,0]}\")\n",
    "print(f\"True Positives: {cm_new[1,1]}\")"
   ]
  },
  {
   "cell_type": "code",
   "execution_count": 38,
   "metadata": {},
   "outputs": [
    {
     "name": "stdout",
     "output_type": "stream",
     "text": [
      "=== MODEL PROBABILITY ANALYSIS ===\n",
      "Fraud probability statistics:\n",
      "Min: 0.000000\n",
      "Max: 0.999561\n",
      "Mean: 0.032512\n",
      "Median: 0.008031\n",
      "\n",
      "Probabilities for actual fraud cases (95 cases):\n",
      "Min: 0.000000\n",
      "Max: 0.999561\n",
      "Mean: 0.856219\n",
      "\n",
      "Reasonable thresholds:\n",
      "50th percentile of fraud cases: 0.9996 (recall: 0.79)\n",
      "75th percentile of fraud cases: 0.9996 (recall: 0.79)\n",
      "90th percentile of fraud cases: 0.9996 (recall: 0.79)\n",
      "95th percentile of fraud cases: 0.9996 (recall: 0.79)\n",
      "99th percentile of fraud cases: 0.9996 (recall: 0.79)\n"
     ]
    }
   ],
   "source": [
    "print(\"=== MODEL PROBABILITY ANALYSIS ===\")\n",
    "\n",
    "# Check the distribution of predicted probabilities\n",
    "fraud_probabilities = optimized_dt.predict_proba(X_test)[:, 1]\n",
    "\n",
    "print(\"Fraud probability statistics:\")\n",
    "print(f\"Min: {fraud_probabilities.min():.6f}\")\n",
    "print(f\"Max: {fraud_probabilities.max():.6f}\")\n",
    "print(f\"Mean: {fraud_probabilities.mean():.6f}\")\n",
    "print(f\"Median: {np.median(fraud_probabilities):.6f}\")\n",
    "\n",
    "# Check probabilities for actual fraud cases\n",
    "actual_fraud_indices = y_test == 1\n",
    "fraud_case_probabilities = fraud_probabilities[actual_fraud_indices]\n",
    "\n",
    "print(f\"\\nProbabilities for actual fraud cases ({len(fraud_case_probabilities)} cases):\")\n",
    "print(f\"Min: {fraud_case_probabilities.min():.6f}\")\n",
    "print(f\"Max: {fraud_case_probabilities.max():.6f}\")\n",
    "print(f\"Mean: {fraud_case_probabilities.mean():.6f}\")\n",
    "\n",
    "# Find a more reasonable threshold\n",
    "print(f\"\\nReasonable thresholds:\")\n",
    "for percentile in [50, 75, 90, 95, 99]:\n",
    "    threshold = np.percentile(fraud_case_probabilities, percentile)\n",
    "    recall_at_threshold = np.mean(fraud_case_probabilities >= threshold)\n",
    "    print(f\"{percentile}th percentile of fraud cases: {threshold:.4f} (recall: {recall_at_threshold:.2f})\")"
   ]
  },
  {
   "cell_type": "code",
   "execution_count": 39,
   "metadata": {},
   "outputs": [
    {
     "name": "stdout",
     "output_type": "stream",
     "text": [
      "=== SETTING PRACTICAL THRESHOLD ===\n",
      "Threshold Performance:\n",
      "Threshold | Precision | Recall | F1-Score | False Positives\n",
      "------------------------------------------------------------\n",
      "     0.1 |     0.071 |  0.863 |    0.131 |           1,078\n",
      "     0.2 |     0.071 |  0.863 |    0.131 |           1,078\n",
      "     0.3 |     0.071 |  0.863 |    0.131 |           1,078\n",
      "     0.4 |     0.071 |  0.863 |    0.131 |           1,078\n",
      "     0.5 |     0.071 |  0.863 |    0.131 |           1,078\n",
      "     0.7 |     0.142 |  0.853 |    0.243 |             491\n",
      "     0.9 |     0.204 |  0.832 |    0.327 |             309\n",
      "\n",
      "Best threshold for balanced F1-score: 0.9\n",
      "\n",
      "=== FINAL RESULTS WITH THRESHOLD 0.9 ===\n",
      "              precision    recall  f1-score   support\n",
      "\n",
      "           0       1.00      0.99      1.00     56651\n",
      "           1       0.20      0.83      0.33        95\n",
      "\n",
      "    accuracy                           0.99     56746\n",
      "   macro avg       0.60      0.91      0.66     56746\n",
      "weighted avg       1.00      0.99      1.00     56746\n",
      "\n"
     ]
    }
   ],
   "source": [
    "print(\"=== SETTING PRACTICAL THRESHOLD ===\")\n",
    "\n",
    "# Let's try thresholds that make business sense\n",
    "test_thresholds = [0.1, 0.2, 0.3, 0.4, 0.5, 0.7, 0.9]\n",
    "\n",
    "print(\"Threshold Performance:\")\n",
    "print(\"Threshold | Precision | Recall | F1-Score | False Positives\")\n",
    "print(\"-\" * 60)\n",
    "\n",
    "best_f1 = 0\n",
    "best_threshold = 0.5\n",
    "\n",
    "for threshold in test_thresholds:\n",
    "    y_pred_thresh = (fraud_probabilities >= threshold).astype(int)\n",
    "    \n",
    "    # Calculate metrics\n",
    "    from sklearn.metrics import precision_score, recall_score, f1_score\n",
    "    precision = precision_score(y_test, y_pred_thresh)\n",
    "    recall = recall_score(y_test, y_pred_thresh)\n",
    "    f1 = f1_score(y_test, y_pred_thresh)\n",
    "    false_positives = np.sum((y_pred_thresh == 1) & (y_test == 0))\n",
    "    \n",
    "    print(f\"{threshold:>8.1f} | {precision:>9.3f} | {recall:>6.3f} | {f1:>8.3f} | {false_positives:>15,d}\")\n",
    "    \n",
    "    if f1 > best_f1:\n",
    "        best_f1 = f1\n",
    "        best_threshold = threshold\n",
    "\n",
    "print(f\"\\nBest threshold for balanced F1-score: {best_threshold}\")\n",
    "\n",
    "# Apply best threshold\n",
    "y_pred_final = (fraud_probabilities >= best_threshold).astype(int)\n",
    "print(f\"\\n=== FINAL RESULTS WITH THRESHOLD {best_threshold} ===\")\n",
    "print(classification_report(y_test, y_pred_final))"
   ]
  },
  {
   "cell_type": "markdown",
   "metadata": {},
   "source": [
    "#### Prepare for Deployment"
   ]
  },
  {
   "cell_type": "code",
   "execution_count": 40,
   "metadata": {},
   "outputs": [
    {
     "name": "stdout",
     "output_type": "stream",
     "text": [
      "Model saved successfully!\n",
      "Features needed for prediction: 33\n"
     ]
    }
   ],
   "source": [
    "models_dir = Path(\"models\")\n",
    "models_dir.mkdir(parents=True, exist_ok=True) \n",
    "\n",
    "# saving the final model\n",
    "joblib.dump(optimized_dt, models_dir / 'fraud_model.pkl')\n",
    "joblib.dump(scaler, models_dir  / 'scaler.pkl')\n",
    "\n",
    "# save feature names\n",
    "feature_names = list(X.columns)\n",
    "joblib.dump(feature_names,models_dir / 'feature_names.pkl')\n",
    "\n",
    "print(\"Model saved successfully!\")\n",
    "print(f\"Features needed for prediction: {len(feature_names)}\")"
   ]
  },
  {
   "cell_type": "code",
   "execution_count": 41,
   "metadata": {},
   "outputs": [
    {
     "name": "stdout",
     "output_type": "stream",
     "text": [
      "=== UPDATE FOR DEPLOYMENT ===\n",
      "Save this threshold: 0.9\n",
      "\n",
      "=== TESTING WITH NEW THRESHOLD ===\n",
      "Test 1: Prob=0.000 → Prediction=0 (legitimate)\n",
      "Test 2: Prob=0.072 → Prediction=0 (legitimate)\n",
      "Test 3: Prob=0.008 → Prediction=0 (legitimate)\n"
     ]
    }
   ],
   "source": [
    "# Save the optimized threshold with your model\n",
    "optimal_threshold = 0.9\n",
    "\n",
    "# Update your fraud_api.py to use the new threshold\n",
    "print(\"=== UPDATE FOR DEPLOYMENT ===\")\n",
    "print(f\"Save this threshold: {optimal_threshold}\")\n",
    "\n",
    "# Test the final model on your API test cases\n",
    "print(\"\\n=== TESTING WITH NEW THRESHOLD ===\")\n",
    "\n",
    "# Your previous test cases with new threshold\n",
    "sample_probabilities = [0.0, 0.072, 0.008]  # From your earlier API tests\n",
    "\n",
    "for i, prob in enumerate(sample_probabilities):\n",
    "    prediction = 1 if prob >= optimal_threshold else 0\n",
    "    status = \"fraud\" if prediction == 1 else \"legitimate\"\n",
    "    print(f\"Test {i+1}: Prob={prob:.3f} → Prediction={prediction} ({status})\")"
   ]
  },
  {
   "cell_type": "markdown",
   "metadata": {},
   "source": [
    "#### Creatring an API for Fraud Detection"
   ]
  },
  {
   "cell_type": "markdown",
   "metadata": {},
   "source": [
    "#### Testing"
   ]
  },
  {
   "cell_type": "code",
   "execution_count": 44,
   "metadata": {},
   "outputs": [
    {
     "name": "stdout",
     "output_type": "stream",
     "text": [
      "Status Code: 200\n",
      "Prediction Result: {'confidence': 'low', 'fraud_probability': 0.0, 'prediction': 0, 'status': 'legitimate', 'threshold_used': 0.9}\n"
     ]
    }
   ],
   "source": [
    "# a sample transaction for testing\n",
    "sample_transaction = {\n",
    "    \"Time\": 15.5,\n",
    "    \"Amount\": 200.0,\n",
    "    \"Amount_log\": 5.298,\n",
    "    \"Hour_of_day\": 15,\n",
    "    \"V1\": -1.5, \"V2\": 0.8, \"V3\": 2.1, \"V4\": -0.9, \"V5\": 0.2,\n",
    "    \"V6\": 1.1, \"V7\": 0.4, \"V8\": -0.3, \"V9\": -1.8, \"V10\": 0.9,\n",
    "    \"V11\": -0.6, \"V12\": 1.3, \"V13\": 0.7, \"V14\": -2.3, \"V15\": 1.0,\n",
    "    \"V16\": -0.4, \"V17\": 0.5, \"V18\": 0.2, \"V19\": 0.3, \"V20\": -0.2,\n",
    "    \"V21\": 0.4, \"V22\": 0.8, \"V23\": -0.3, \"V24\": 0.6, \"V25\": 0.2,\n",
    "    \"V26\": -0.5, \"V27\": 0.3, \"V28\": 0.2\n",
    "}\n",
    "\n",
    "# prediction request\n",
    "try:\n",
    "    response = requests.post('http://127.0.0.1:5000/predict', json=sample_transaction)\n",
    "    print(\"Status Code:\", response.status_code)\n",
    "    print(\"Prediction Result:\", response.json())\n",
    "except Exception as e:\n",
    "    print(\"Error:\", e)"
   ]
  },
  {
   "cell_type": "code",
   "execution_count": 45,
   "metadata": {},
   "outputs": [
    {
     "name": "stdout",
     "output_type": "stream",
     "text": [
      "High-risk transaction result: {'confidence': 'low', 'fraud_probability': 0.0, 'prediction': 0, 'status': 'legitimate', 'threshold_used': 0.9}\n"
     ]
    }
   ],
   "source": [
    "# High amount transaction at unusual hour\n",
    "high_risk_transaction = {\n",
    "    \"Time\": int(2.5 * 3600),   # 2.5 hours -> seconds\n",
    "    \"Amount\": 1500.0,\n",
    "    # V1..V28 must be present; zeros won't be realistic, use actual values from a fraud row if possible.\n",
    "    \"V1\": -2.5, \"V2\": 1.8, \"V3\": 3.1, \"V4\": -1.9, \"V5\": 0.8,\n",
    "    \"V6\": 2.1, \"V7\": 0.9, \"V8\": -1.3, \"V9\": -2.8, \"V10\": 1.9,\n",
    "    \"V11\": -1.6, \"V12\": 2.3, \"V13\": 1.7, \"V14\": -3.3, \"V15\": 2.0,\n",
    "    \"V16\": -1.4, \"V17\": 1.5, \"V18\": 0.8, \"V19\": 1.3, \"V20\": -0.8,\n",
    "    \"V21\": 1.4, \"V22\": 1.8, \"V23\": -1.3, \"V24\": 1.6, \"V25\": 0.8,\n",
    "    \"V26\": -1.5, \"V27\": 1.3, \"V28\": 0.8\n",
    "}\n",
    "\n",
    "response = requests.post('http://127.0.0.1:5000/predict', json=high_risk_transaction)\n",
    "print(\"High-risk transaction result:\", response.json())"
   ]
  },
  {
   "cell_type": "code",
   "execution_count": 46,
   "metadata": {},
   "outputs": [
    {
     "name": "stdout",
     "output_type": "stream",
     "text": [
      "Small transaction result: {'confidence': 'low', 'fraud_probability': 0.07220276652043642, 'prediction': 0, 'status': 'legitimate', 'threshold_used': 0.9}\n"
     ]
    }
   ],
   "source": [
    "# Small amount, normal hour\n",
    "small_transaction = {\n",
    "    \"Time\": 36.0, \"Amount\": 25.0, \"Amount_log\": 3.219, \"Hour_of_day\": 12,\n",
    "    \"V1\": -0.5, \"V2\": 0.2, \"V3\": 0.8, \"V4\": -0.3, \"V5\": 0.1,\n",
    "    \"V6\": 0.4, \"V7\": 0.2, \"V8\": -0.1, \"V9\": -0.8, \"V10\": 0.3,\n",
    "    \"V11\": -0.2, \"V12\": 0.6, \"V13\": 0.3, \"V14\": -1.1, \"V15\": 0.4,\n",
    "    \"V16\": -0.2, \"V17\": 0.2, \"V18\": 0.1, \"V19\": 0.1, \"V20\": -0.1,\n",
    "    \"V21\": 0.2, \"V22\": 0.3, \"V23\": -0.1, \"V24\": 0.2, \"V25\": 0.1,\n",
    "    \"V26\": -0.2, \"V27\": 0.1, \"V28\": 0.1\n",
    "}\n",
    "\n",
    "response = requests.post('http://127.0.0.1:5000/predict', json=small_transaction)\n",
    "print(\"Small transaction result:\", response.json())"
   ]
  },
  {
   "cell_type": "markdown",
   "metadata": {},
   "source": [
    "#### Model Behaviour and Wrap-up"
   ]
  },
  {
   "cell_type": "code",
   "execution_count": 47,
   "metadata": {},
   "outputs": [
    {
     "name": "stdout",
     "output_type": "stream",
     "text": [
      "Real-world pattern result: {'confidence': 'low', 'fraud_probability': 0.008030924385611513, 'prediction': 0, 'status': 'legitimate', 'threshold_used': 0.9}\n"
     ]
    }
   ],
   "source": [
    "# Test with transaction from your actual dataset\n",
    "real_fraud_example = {\n",
    "    \"Time\": 5.0, \"Amount\": 50.0, \"Amount_log\": 3.912, \"Hour_of_day\": 5,\n",
    "    \"V1\": 1.2, \"V2\": 0.3, \"V3\": 1.8, \"V4\": 1.4, \"V5\": -0.3,\n",
    "    \"V6\": 0.5, \"V7\": 0.2, \"V8\": 0.1, \"V9\": 0.4, \"V10\": -0.2,\n",
    "    \"V11\": -0.6, \"V12\": 0.1, \"V13\": -1.1, \"V14\": 0.1, \"V15\": 0.1,\n",
    "    \"V16\": -0.1, \"V17\": -0.2, \"V18\": 0.0, \"V19\": 0.3, \"V20\": -0.0,\n",
    "    \"V21\": -0.0, \"V22\": 0.8, \"V23\": -0.1, \"V24\": 0.1, \"V25\": 0.1,\n",
    "    \"V26\": -0.2, \"V27\": 0.1, \"V28\": -0.0\n",
    "}\n",
    "\n",
    "response = requests.post('http://127.0.0.1:5000/predict', json=real_fraud_example)\n",
    "print(\"Real-world pattern result:\", response.json())"
   ]
  },
  {
   "cell_type": "markdown",
   "metadata": {},
   "source": [
    "# 🎉 Fraud Detection Project Summary\n",
    "\n",
    "**What I built**\n",
    "- End-to-end ML pipeline (EDA → features → models → tuning → API)\n",
    "- Processed **284,807** credit-card transactions\n",
    "- Engineered **time** and **amount** features\n",
    "- Trained Logistic Regression, Decision Tree, XGBoost; tuned for **recall**\n",
    "- Final model: **Decision Tree** : **recall 0.86**, **ROC-AUC 0.899** (test set)\n",
    "- Saved artifacts (model, scaler, feature list) and exposed a REST endpoint with a business threshold and `/health`\n",
    "\n",
    "**Business impact**\n",
    "- Catches **~86%** of fraudulent transactions (**82/95**); **~13%** missed\n",
    "- Trade-off: about **13 false alarms per true fraud** (precision ≈ **7%** at the chosen threshold)\n",
    "- Works as a **recall-first screen**; alerts can be reduced later with thresholds/rules or a secondary check"
   ]
  }
 ],
 "metadata": {
  "interpreter": {
   "hash": "f8e5ec923ab0979aebc9bb174cbcfd0aea74a0555f32fd723ddd49d032da92f4"
  },
  "kernelspec": {
   "display_name": "Python (sara_env)",
   "language": "python",
   "name": "sara_env"
  },
  "language_info": {
   "codemirror_mode": {
    "name": "ipython",
    "version": 3
   },
   "file_extension": ".py",
   "mimetype": "text/x-python",
   "name": "python",
   "nbconvert_exporter": "python",
   "pygments_lexer": "ipython3",
   "version": "3.13.1"
  },
  "orig_nbformat": 4
 },
 "nbformat": 4,
 "nbformat_minor": 2
}
